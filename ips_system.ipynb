{
  "cells": [
    {
      "cell_type": "markdown",
      "metadata": {
        "id": "view-in-github",
        "colab_type": "text"
      },
      "source": [
        "<a href=\"https://colab.research.google.com/github/StSahtouris/StSahtouris/blob/main/ips_system.ipynb\" target=\"_parent\"><img src=\"https://colab.research.google.com/assets/colab-badge.svg\" alt=\"Open In Colab\"/></a>"
      ]
    },
    {
      "cell_type": "code",
      "execution_count": 14,
      "id": "84842e5f",
      "metadata": {
        "id": "84842e5f"
      },
      "outputs": [],
      "source": [
        "# Import necessary libraries\n",
        "from datetime import datetime\n",
        "import logging"
      ]
    },
    {
      "cell_type": "code",
      "execution_count": 15,
      "id": "97e2c9d8",
      "metadata": {
        "lines_to_next_cell": 1,
        "id": "97e2c9d8"
      },
      "outputs": [],
      "source": [
        "# Initialize logging to track actions taken by the IPS\n",
        "logging.basicConfig(\n",
        "    filename=\"ips_logs.log\",\n",
        "    level=logging.INFO,\n",
        "    format=\"%(asctime)s - %(levelname)s - %(message)s\"\n",
        ")"
      ]
    },
    {
      "cell_type": "code",
      "execution_count": 16,
      "id": "26bb47cd",
      "metadata": {
        "lines_to_next_cell": 1,
        "id": "26bb47cd"
      },
      "outputs": [],
      "source": [
        "def log_action(action, details):\n",
        "    \"\"\"Log the actions taken by the IPS.\"\"\"\n",
        "    logging.info(f\"{action}: {details}\")"
      ]
    },
    {
      "cell_type": "code",
      "execution_count": 17,
      "id": "06e58457",
      "metadata": {
        "lines_to_next_cell": 1,
        "id": "06e58457"
      },
      "outputs": [],
      "source": [
        "def block_traffic(source_ip):\n",
        "    \"\"\"Simulate blocking traffic from a source IP.\"\"\"\n",
        "    log_action(\"Block Traffic\", f\"Blocked traffic from {source_ip}\")\n",
        "    print(f\"Traffic from {source_ip} has been blocked.\")"
      ]
    },
    {
      "cell_type": "code",
      "execution_count": 18,
      "id": "b7d87f57",
      "metadata": {
        "lines_to_next_cell": 1,
        "id": "b7d87f57"
      },
      "outputs": [],
      "source": [
        "def isolate_device(target_device):\n",
        "    \"\"\"Simulate isolating a device in the network.\"\"\"\n",
        "    log_action(\"Isolate Device\", f\"Device {target_device} has been isolated.\")\n",
        "    print(f\"Device {target_device} has been isolated.\")"
      ]
    },
    {
      "cell_type": "code",
      "execution_count": 19,
      "id": "75b7f81c",
      "metadata": {
        "lines_to_next_cell": 1,
        "id": "75b7f81c"
      },
      "outputs": [],
      "source": [
        "def notify_admin(message):\n",
        "    \"\"\"Simulate sending a notification to the admin.\"\"\"\n",
        "    log_action(\"Notify Admin\", message)\n",
        "    print(f\"Admin notified: {message}\")"
      ]
    },
    {
      "cell_type": "code",
      "execution_count": 20,
      "id": "1341620e",
      "metadata": {
        "lines_to_next_cell": 1,
        "id": "1341620e"
      },
      "outputs": [],
      "source": [
        "def monitor_traffic(source_ip):\n",
        "    \"\"\"Simulate monitoring traffic from a source IP.\"\"\"\n",
        "    log_action(\"Monitor Traffic\", f\"Monitoring traffic from {source_ip}\")\n",
        "    print(f\"Monitoring traffic from {source_ip}.\")"
      ]
    },
    {
      "cell_type": "code",
      "execution_count": 21,
      "id": "0c42c854",
      "metadata": {
        "lines_to_next_cell": 1,
        "id": "0c42c854"
      },
      "outputs": [],
      "source": [
        "def log_threat(threat):\n",
        "    \"\"\"Log the detected threat for future analysis.\"\"\"\n",
        "    log_action(\"Log Threat\", f\"Threat logged: {threat}\")\n",
        "    print(f\"Threat logged: {threat}\")"
      ]
    },
    {
      "cell_type": "code",
      "execution_count": 22,
      "id": "23be8793",
      "metadata": {
        "lines_to_next_cell": 1,
        "id": "23be8793"
      },
      "outputs": [],
      "source": [
        "def handle_threat(detected_threat):\n",
        "    \"\"\"Main logic for handling detected threats.\"\"\"\n",
        "    if detected_threat['severity'] == \"high\":\n",
        "        block_traffic(detected_threat['source_ip'])\n",
        "        isolate_device(detected_threat['target_device'])\n",
        "        notify_admin(\"High severity threat detected. Actions taken.\")\n",
        "    elif detected_threat['severity'] == \"medium\":\n",
        "        log_threat(detected_threat)\n",
        "        notify_admin(\"Medium severity threat detected. Manual review required.\")\n",
        "    else:\n",
        "        monitor_traffic(detected_threat['source_ip'])"
      ]
    },
    {
      "cell_type": "code",
      "execution_count": 23,
      "id": "dfc68161",
      "metadata": {
        "colab": {
          "base_uri": "https://localhost:8080/"
        },
        "id": "dfc68161",
        "outputId": "7922cde1-5d3e-4d42-b716-629b491f5aa2"
      },
      "outputs": [
        {
          "output_type": "stream",
          "name": "stdout",
          "text": [
            "This code will execute when run as a script.\n"
          ]
        }
      ],
      "source": [
        "# Example usage\n",
        "if __name__ == \"__main__\":\n",
        "    # Example detected threats\n",
        "    detected_threats = [\n",
        "        {\"source_ip\": \"192.168.1.10\", \"destination_ip\":\"192.168.1.20\"}\n",
        "    ]\n",
        "\n",
        "    # Analyze the detected threats\n",
        "    # This is a placeholder; you need to define the analyze_threats function\n",
        "    # threat_analysis_result = analyze_threats(detected_threats)\n",
        "    # print(threat_analysis_result)\n",
        "    print(\"This code will execute when run as a script.\")"
      ]
    }
  ],
  "metadata": {
    "jupytext": {
      "cell_metadata_filter": "-all",
      "main_language": "python",
      "notebook_metadata_filter": "-all"
    },
    "colab": {
      "provenance": [],
      "include_colab_link": true
    },
    "language_info": {
      "name": "python"
    },
    "kernelspec": {
      "name": "python3",
      "display_name": "Python 3"
    }
  },
  "nbformat": 4,
  "nbformat_minor": 5
}